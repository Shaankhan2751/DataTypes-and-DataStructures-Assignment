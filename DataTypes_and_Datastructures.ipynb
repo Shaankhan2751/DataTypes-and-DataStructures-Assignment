{
  "nbformat": 4,
  "nbformat_minor": 0,
  "metadata": {
    "colab": {
      "provenance": []
    },
    "kernelspec": {
      "name": "python3",
      "display_name": "Python 3"
    },
    "language_info": {
      "name": "python"
    }
  },
  "cells": [
    {
      "cell_type": "markdown",
      "source": [
        "#Data Types and Structures Questions Assignment\n"
      ],
      "metadata": {
        "id": "JLdn4e61RQvt"
      }
    },
    {
      "cell_type": "markdown",
      "source": [
        "1. What are data structures, and why are they important?\n",
        "\n",
        "  - data structures in python act as containers to store data inside of it in an efficient manner there are multiple types of data structures some of them are : lists,arrays,dictionaries,sets and tuples\n",
        "  - they are important since they help in organizining ,storing and retrieving the data for different purposes efficiently.\n",
        "\n",
        "2. Explain the difference between mutable and immutable data types with examples?\n",
        "\n",
        "  - mutable in python refers to an data type that can be changed or manipulated directly some of the data structures which are mutable are : lists,dictionary,sets and arrays\n",
        "  <br>e.g<br>\n",
        "  lst=[5,34,56,67,7]\n",
        "  lst[0]=15 // this will update the first element from list: 15,34,56,67,7\n",
        "  \n",
        "  - immutability opposite to mutable refers to the characteristic of an datastructure that provides no flexibility in data modification such data types are memory efficient and fast.<br>e.g<br>tup=(5,7,8,9)\n",
        "  tup[0]=9 // this will throw an error since tuple doesnt allow it.\n",
        "\n",
        "3. What are the main differences between lists and tuples in Python?\n",
        "\n",
        "  - lists are mutable data structures giving the flexibility to any changes or manipulations since they store extra bit of space for future use case but this also makes them memory inefficient and slow.\n",
        "  - tuples are immutable data structures and due to their strict and tight data storing nature they dont allow any changes or modifications once generated and can only be manipulated by creating new tuples due to this they are faster than list data strucrture and more memory efficient.\n",
        "\n",
        "4.Describe how dictionaries store data?\n",
        "\n",
        "  - dictionaries in python work in key value model where keys are immutable part of the data structure where as values are mutable part of it.\n",
        "  <br>\n",
        "  e.g<br>dict={\"name\":\"kamran\",\"last_name\":\"khan\"}\n",
        "\n",
        "5. Why might you use a set instead of a list in Python?\n",
        "\n",
        "  - sets are unordered mutable data structures on python they help in sort out removing repeated data unlike lists which give all this makes it efficient and faster than the lists.\n",
        "\n",
        "6. What is a string in Python, and how is it different from a list?\n",
        "\n",
        "  - Strings are a collection of homogeneous characters datatype in python which are also immutable and cannot be modified once created\n",
        "  -lists are a datastructure with collection of heterogeneous datatypes such as int,char,string and boolean etc ,lists are also flexible and mutable.\n",
        "\n",
        "7. How do tuples ensure data integrity in Python?\n",
        "\n",
        "  - tuples are immutable datastructure in python which once created does not allows any changes or modifications, any attempts to change the code will through an error and will cause attempts in vain this efficiently protects the data and helps in data integration.\n",
        "\n",
        "8. What is a hash table, and how does it relate to dictionaries in Python?\n",
        "\n",
        "  - a hash table is a datastructure model which stores data in an key value pair this makes data extraction,organization,storage and manipulation very efficient dictionaries are the implementation of hash tables in python.\n",
        "\n",
        "9. Can lists contain different data types in Python?\n",
        "\n",
        "  - Yes, Lists allows homogeneous data storage in it such as strings,int,float,boolean,arrays,char and lists<br>e.g<br>lst=['hi',56,89.90,True,'A']\n",
        "\n",
        "10. Explain why strings are immutable in Python?\n",
        "\n",
        "  - strings are immutable in python because of its data structure type which fixes the memory allocation of each character this ensures memory efficiency,data integrity/security and optimized data  extraction\n",
        "\n",
        "11. What advantages do dictionaries offer over lists for certain tasks?\n",
        "\n",
        "  - dictionaries offer more memory efficiency,optimized/fast data extraction and easier data manipulation due to key value pairs which helps in selection of data to changes, these all features makes dictionaries more preferable compared to list data structures.\n",
        "\n",
        "12. Describe a scenario where using a tuple would be preferable over a list?\n",
        "\n",
        "  - Let's Imagine that we are building an customer verification id for each consumer in an grocery delivery app and in that app users have diverse budget of savings saved in their wallet for future use so having an list data structure will make the system susceptible for hacking or phishing attacks putting other users data at risk to avoid these security threats tuples should be used to protect the data since they are immutable in nature.\n",
        "\n",
        "13. How do sets handle duplicate values in Python?\n",
        "\n",
        "  - Sets are mutable datastructures that are unordered in natures also that any duplicate values in a set are ignored by the compiler and only produces the original first instance and ignores the rests and also the output of the set is also not guranteed and may change on each compilation of the code .\n",
        "  <br>e.g<br>s={'hi','bye','hello','hi'} // hi,bye,hello\n",
        "\n",
        "14. How does the “in” keyword work differently for lists and dictionaries?\n",
        "\n",
        "  - in keyword in lists iterates over the sequence of the datasets till the results are found and returns True if found and False if failed <br>e.g<br>\n",
        "  lst=[3,6,7,77,0]\n",
        "  <br>print(6 in lst) // True\n",
        "  - in keyword in dictionaries works little different than the lists since dictionaries are constructed over the hash table model containing key value pairs so when searched with in keyword with .values() in a dictionary it searches only for key and if the data is present in the value of the key using an .items() would search the data in both key value pairs and returns the results.<br>\n",
        "  e.g<br>my_dict = {\"a\": 1, \"b\": 2, \"c\": 3}<br>print(1 in my_dict.values())  # True<br>print((\"a\", 1) in my_dict.items())  # True\n",
        "\n",
        "15. Can you modify the elements of a tuple? Explain why or why not.\n",
        "\n",
        "  - No we cant directly modify the tuple elements since the tuple datastructure is made immutable and has a fixed memory allocation but tuples can be manipulated indirectly or by creating an new variable containing the data from the original variable.\n",
        "\n",
        "16. What is a nested dictionary, and give an example of its use case?\n",
        "\n",
        "  - a nested dictionary refers to a dictionary within a dictionary these dictionary contains one or more dictionary within itself these are contained in a hierarchical manner storing the data in levels.<br>e.g<br>\n",
        "  ds={'name':'kamran','age':20,'grades':{'python':'A','AWS':'A'},'course':'pwskills'}\n",
        "\n",
        "17. Describe the time complexity of accessing elements in a dictionary?\n",
        "\n",
        "  - dictionary has one of the fastest data extraction or element access due to its hash table data storage which extracts or accesses the data through the key which makes it efficient and fast in average cases it O(1) and in worst case O(n).\n",
        "\n",
        "18. In what situations are lists preferred over dictionaries?\n",
        "\n",
        "  - Lists are most preferable where constant modifications like creation,reading,updation or deletion is required without needing to handle key value informations also that lists give out the data in sequential ordered manner which is preferred for small datasets.\n",
        "\n",
        "19. Why are dictionaries considered unordered, and how does that affect data retrieval?\n",
        "\n",
        "  - Dictionaries are made on hash table model for faster element accessing through the keys since the dictionaries do not support indexing and they are made for faster data retrival through the keys this makes dictionaries output unordered since their primary focus is to retrive the data in the fastest mode.\n",
        "  - this makes the data retrieval process extremely fast of O(1) compared to other datastructures.\n",
        "\n",
        "20. Explain the difference between a list and a dictionary in terms of data retrieval.\n",
        "\n",
        "  - lists are ordered dataset with indexation being the method of data extraction however this method gets complicated when the indexation is unknown or not traceble to extract exact data.<br>e.g<br>lst=['hi',45,True,34.5]<br>lst[3]// 34.5\n",
        "  - dictionaries in python use hash table model which stores the data in key value pairs or in hierarchical manner this eliminates any mistakes in data extraction and makes it extremely efficient and fast compared to lists. <br>dct={'name':'kamran','age':22}<br>print(dct['name']) // output: kamran\n",
        "\n",
        "#Practical Questions\n",
        "\n",
        "1. DP Write a code to create a string with your name and print it?\n",
        "\n"
      ],
      "metadata": {
        "id": "znE9DkqERXVz"
      }
    },
    {
      "cell_type": "code",
      "source": [
        "name='kamran'\n",
        "print(name)"
      ],
      "metadata": {
        "colab": {
          "base_uri": "https://localhost:8080/"
        },
        "id": "ZOLu8NkCyFxn",
        "outputId": "03a8ed5d-2b91-49a6-f2f9-4debed630ef4"
      },
      "execution_count": 1,
      "outputs": [
        {
          "output_type": "stream",
          "name": "stdout",
          "text": [
            "kamran\n"
          ]
        }
      ]
    },
    {
      "cell_type": "markdown",
      "source": [
        "2.Write a code to find the length of the string \"Hello World\"?"
      ],
      "metadata": {
        "id": "V0Mmaaw7yMmd"
      }
    },
    {
      "cell_type": "code",
      "source": [
        "word=\"Hello World\"\n",
        "print(len(word))"
      ],
      "metadata": {
        "colab": {
          "base_uri": "https://localhost:8080/"
        },
        "id": "MN4uy4gByNE6",
        "outputId": "4105d105-2e66-4ba5-c5f3-1ba670ccbbdd"
      },
      "execution_count": 2,
      "outputs": [
        {
          "output_type": "stream",
          "name": "stdout",
          "text": [
            "11\n"
          ]
        }
      ]
    },
    {
      "cell_type": "markdown",
      "source": [
        "3.Write a code to slice the first 3 characters from the string \"Python Programming\"?"
      ],
      "metadata": {
        "id": "elX-hFY2SiqU"
      }
    },
    {
      "cell_type": "code",
      "source": [
        "slc=\"Python Programming\"\n",
        "print(slc[:3:])"
      ],
      "metadata": {
        "colab": {
          "base_uri": "https://localhost:8080/"
        },
        "id": "ur70xM_MyeJU",
        "outputId": "cbdf7c0c-239c-4cd9-e161-21f34cc646f6"
      },
      "execution_count": 7,
      "outputs": [
        {
          "output_type": "stream",
          "name": "stdout",
          "text": [
            "Pyt\n"
          ]
        }
      ]
    },
    {
      "cell_type": "markdown",
      "source": [
        "4. Write a code to convert the string \"hello\" to uppercase?"
      ],
      "metadata": {
        "id": "AYGRGM1Ay05A"
      }
    },
    {
      "cell_type": "code",
      "source": [
        "s=\"hello\"\n",
        "print(s.upper())"
      ],
      "metadata": {
        "colab": {
          "base_uri": "https://localhost:8080/"
        },
        "id": "DC7merDDy1G3",
        "outputId": "c4610939-61c4-479b-84bb-f1d386581f60"
      },
      "execution_count": 10,
      "outputs": [
        {
          "output_type": "stream",
          "name": "stdout",
          "text": [
            "HELLO\n"
          ]
        }
      ]
    },
    {
      "cell_type": "markdown",
      "source": [
        "5. Write a code to replace the word \"apple\" with \"orange\" in the string \"I like apple\"?"
      ],
      "metadata": {
        "id": "B1XpderqzK3o"
      }
    },
    {
      "cell_type": "code",
      "source": [
        "a=\"I like apple\"\n",
        "print(a.replace(\"apple\",\"orange\"))"
      ],
      "metadata": {
        "colab": {
          "base_uri": "https://localhost:8080/"
        },
        "id": "VkTa2CzOzLEj",
        "outputId": "2236b56c-f142-43b3-9972-2d9643618fa6"
      },
      "execution_count": 12,
      "outputs": [
        {
          "output_type": "stream",
          "name": "stdout",
          "text": [
            "I like orange\n"
          ]
        }
      ]
    },
    {
      "cell_type": "markdown",
      "source": [
        "6. Write a code to create a list with numbers 1 to 5 and print it?"
      ],
      "metadata": {
        "id": "JNVlCdss5Z4e"
      }
    },
    {
      "cell_type": "code",
      "source": [
        "lst=[1,2,3,4,5]\n",
        "print(lst)"
      ],
      "metadata": {
        "colab": {
          "base_uri": "https://localhost:8080/"
        },
        "id": "tVSo5hd85aLb",
        "outputId": "3e114fc8-329b-4d76-b1bd-4fabdcab8a92"
      },
      "execution_count": 15,
      "outputs": [
        {
          "output_type": "execute_result",
          "data": {
            "text/plain": [
              "[1, 2, 3, 4, 5]"
            ]
          },
          "metadata": {},
          "execution_count": 15
        }
      ]
    },
    {
      "cell_type": "markdown",
      "source": [
        "7. Write a code to append the number 10 to the list [1, 2, 3, 4]?"
      ],
      "metadata": {
        "id": "fgNt4Jbc6NRj"
      }
    },
    {
      "cell_type": "code",
      "source": [
        "l=[1,2,3,4]\n",
        "print(l)\n",
        "l.append(10)\n",
        "print(l)"
      ],
      "metadata": {
        "colab": {
          "base_uri": "https://localhost:8080/"
        },
        "id": "8H2pnnH76Nlc",
        "outputId": "911dc25b-718b-4348-dca7-ca40bbf122f6"
      },
      "execution_count": 17,
      "outputs": [
        {
          "output_type": "stream",
          "name": "stdout",
          "text": [
            "[1, 2, 3, 4]\n",
            "[1, 2, 3, 4, 10]\n"
          ]
        }
      ]
    },
    {
      "cell_type": "markdown",
      "source": [
        "8. Write a code to remove the number 3 from the list [1, 2, 3, 4, 5]?"
      ],
      "metadata": {
        "id": "zOjuhqOp6if2"
      }
    },
    {
      "cell_type": "code",
      "source": [
        "ls=[1,2,3,4,5]\n",
        "print(ls)\n",
        "ls.remove(3)\n",
        "print(ls)"
      ],
      "metadata": {
        "colab": {
          "base_uri": "https://localhost:8080/"
        },
        "id": "KmO2jHxU6ixh",
        "outputId": "c87e19c6-36e8-4782-e71d-432e72cac697"
      },
      "execution_count": 19,
      "outputs": [
        {
          "output_type": "stream",
          "name": "stdout",
          "text": [
            "[1, 2, 3, 4, 5]\n",
            "[1, 2, 4, 5]\n"
          ]
        }
      ]
    },
    {
      "cell_type": "markdown",
      "source": [
        "9. Write a code to access the second element in the list ['a', 'b', 'c', 'd']?"
      ],
      "metadata": {
        "id": "4vnZgDpR7F4h"
      }
    },
    {
      "cell_type": "code",
      "source": [
        "lstt=['a','b','c','d']\n",
        "lstt[1]"
      ],
      "metadata": {
        "colab": {
          "base_uri": "https://localhost:8080/",
          "height": 36
        },
        "id": "sHPMon4S7GId",
        "outputId": "a893c803-b138-46c9-d059-401502f94941"
      },
      "execution_count": 21,
      "outputs": [
        {
          "output_type": "execute_result",
          "data": {
            "text/plain": [
              "'b'"
            ],
            "application/vnd.google.colaboratory.intrinsic+json": {
              "type": "string"
            }
          },
          "metadata": {},
          "execution_count": 21
        }
      ]
    },
    {
      "cell_type": "markdown",
      "source": [
        "10. Write a code to reverse the list [10, 20, 30, 40, 50]?"
      ],
      "metadata": {
        "id": "Y21KHDI17YN8"
      }
    },
    {
      "cell_type": "code",
      "source": [
        "num_list=[10,20,30,40,50]\n",
        "print(num_list)\n",
        "num_list.reverse()\n",
        "print(num_list)"
      ],
      "metadata": {
        "colab": {
          "base_uri": "https://localhost:8080/"
        },
        "id": "ASW7Zv_X7Zuh",
        "outputId": "39a8b102-a926-460f-8ad1-e2275bfdf576"
      },
      "execution_count": 22,
      "outputs": [
        {
          "output_type": "stream",
          "name": "stdout",
          "text": [
            "[10, 20, 30, 40, 50]\n",
            "[50, 40, 30, 20, 10]\n"
          ]
        }
      ]
    },
    {
      "cell_type": "markdown",
      "source": [
        "11. Write a code to create a tuple with the elements 100, 200, 300 and print it."
      ],
      "metadata": {
        "id": "nRQB4AJQ7kHn"
      }
    },
    {
      "cell_type": "code",
      "source": [
        "tp=(100,200,300)\n",
        "print(tp)"
      ],
      "metadata": {
        "colab": {
          "base_uri": "https://localhost:8080/"
        },
        "id": "0LdYtKsI7kXN",
        "outputId": "e73b54c8-90f5-4d78-caba-bed9d37ec5c9"
      },
      "execution_count": 23,
      "outputs": [
        {
          "output_type": "stream",
          "name": "stdout",
          "text": [
            "(100, 200, 300)\n"
          ]
        }
      ]
    },
    {
      "cell_type": "markdown",
      "source": [
        "12. Write a code to access the second-to-last element of the tuple ('red', 'green', 'blue', 'yellow')"
      ],
      "metadata": {
        "id": "_lqwbeYQ7wLZ"
      }
    },
    {
      "cell_type": "code",
      "source": [
        "col_tup=('red','green','blue','yellow')\n",
        "print(col_tup[-2])"
      ],
      "metadata": {
        "colab": {
          "base_uri": "https://localhost:8080/"
        },
        "id": "liQT-AML7wcM",
        "outputId": "36dda80d-49cf-4d1b-9420-353dc5ad1615"
      },
      "execution_count": 24,
      "outputs": [
        {
          "output_type": "stream",
          "name": "stdout",
          "text": [
            "blue\n"
          ]
        }
      ]
    },
    {
      "cell_type": "markdown",
      "source": [
        "13. Write a code to find the minimum number in the tuple (10, 20, 5, 15)."
      ],
      "metadata": {
        "id": "Mt6j3zBo8Ak5"
      }
    },
    {
      "cell_type": "code",
      "source": [
        "min_tp=(110,20,5,15)\n",
        "print(min(min_tp))"
      ],
      "metadata": {
        "colab": {
          "base_uri": "https://localhost:8080/"
        },
        "id": "q-lumyst8A03",
        "outputId": "0c9f9269-cadd-4e5d-aaec-70665372b8fe"
      },
      "execution_count": 25,
      "outputs": [
        {
          "output_type": "stream",
          "name": "stdout",
          "text": [
            "5\n"
          ]
        }
      ]
    },
    {
      "cell_type": "markdown",
      "source": [
        "14. Write a code to find the index of the element \"cat\" in the tuple ('dog', 'cat', 'rabbit')."
      ],
      "metadata": {
        "id": "BwpdNveq8K5A"
      }
    },
    {
      "cell_type": "code",
      "source": [
        "animal_tup=('dog','cat','rabbit')\n",
        "print(animal_tup.index('cat'))"
      ],
      "metadata": {
        "colab": {
          "base_uri": "https://localhost:8080/"
        },
        "id": "HwyYznnX8LGH",
        "outputId": "d860f5cc-ce11-44a2-d26e-b78138d516f5"
      },
      "execution_count": 26,
      "outputs": [
        {
          "output_type": "stream",
          "name": "stdout",
          "text": [
            "1\n"
          ]
        }
      ]
    },
    {
      "cell_type": "markdown",
      "source": [
        "15. Write a code to create a tuple containing three different fruits and check if \"kiwi\" is in it."
      ],
      "metadata": {
        "id": "3wir7b_J8UtI"
      }
    },
    {
      "cell_type": "code",
      "source": [
        "fruit_tuple=('apple','banana','kiwi')\n",
        "print('kiwi' in fruit_tuple)"
      ],
      "metadata": {
        "colab": {
          "base_uri": "https://localhost:8080/"
        },
        "id": "yA8jqP6s8U6f",
        "outputId": "bdd82738-b083-44b3-9f31-8ec6793f446d"
      },
      "execution_count": 27,
      "outputs": [
        {
          "output_type": "stream",
          "name": "stdout",
          "text": [
            "True\n"
          ]
        }
      ]
    },
    {
      "cell_type": "markdown",
      "source": [
        "16. Write a code to create a set with the elements 'a', 'b', 'c' and print it."
      ],
      "metadata": {
        "id": "UoTw4tiC8ftJ"
      }
    },
    {
      "cell_type": "code",
      "source": [
        "set_ele={'a','b','c'}\n",
        "print(set_ele)"
      ],
      "metadata": {
        "colab": {
          "base_uri": "https://localhost:8080/"
        },
        "id": "J70aP2ef8f8K",
        "outputId": "681bd4fa-d1b5-47b8-8ad9-8cc93ac38f93"
      },
      "execution_count": 29,
      "outputs": [
        {
          "output_type": "stream",
          "name": "stdout",
          "text": [
            "{'b', 'a', 'c'}\n"
          ]
        }
      ]
    },
    {
      "cell_type": "markdown",
      "source": [
        "17. Write a code to clear all elements from the set {1, 2, 3, 4, 5}.\n",
        "\n"
      ],
      "metadata": {
        "id": "P_bqT2ZC8q2s"
      }
    },
    {
      "cell_type": "code",
      "source": [
        "set_ele={1,2,3,4,5}\n",
        "print(set_ele)\n",
        "set_ele.clear()\n",
        "print(set_ele)"
      ],
      "metadata": {
        "colab": {
          "base_uri": "https://localhost:8080/"
        },
        "id": "cs28Hidl8rJX",
        "outputId": "00c0f20b-8830-48ba-9490-6dd9600c0a57"
      },
      "execution_count": 30,
      "outputs": [
        {
          "output_type": "stream",
          "name": "stdout",
          "text": [
            "{1, 2, 3, 4, 5}\n",
            "set()\n"
          ]
        }
      ]
    },
    {
      "cell_type": "markdown",
      "source": [
        "18. Write a code to remove the element 4 from the set {1, 2, 3, 4}."
      ],
      "metadata": {
        "id": "G0wW5UOq8yzA"
      }
    },
    {
      "cell_type": "code",
      "source": [
        "set_ele={1,2,3,4}\n",
        "print(set_ele)\n",
        "set_ele.remove(4)\n",
        "print(set_ele)"
      ],
      "metadata": {
        "colab": {
          "base_uri": "https://localhost:8080/"
        },
        "id": "bGHc0mpo8y_l",
        "outputId": "96c5c550-552c-48e0-ef4b-7ddf7a513610"
      },
      "execution_count": 31,
      "outputs": [
        {
          "output_type": "stream",
          "name": "stdout",
          "text": [
            "{1, 2, 3, 4}\n",
            "{1, 2, 3}\n"
          ]
        }
      ]
    },
    {
      "cell_type": "markdown",
      "source": [
        "19. Write a code to find the union of two sets {1, 2, 3} and {3, 4, 5}."
      ],
      "metadata": {
        "id": "h0XzJQui86qq"
      }
    },
    {
      "cell_type": "code",
      "source": [
        "set_one={1,2,3}\n",
        "set_two={3,4,5}\n",
        "print(set_one.union(set_two))"
      ],
      "metadata": {
        "colab": {
          "base_uri": "https://localhost:8080/"
        },
        "id": "FBkuKJ1x863_",
        "outputId": "d380e5e0-e845-4d78-d734-092592d9727c"
      },
      "execution_count": 32,
      "outputs": [
        {
          "output_type": "stream",
          "name": "stdout",
          "text": [
            "{1, 2, 3, 4, 5}\n"
          ]
        }
      ]
    },
    {
      "cell_type": "markdown",
      "source": [
        "20. Write a code to find the intersection of two sets {1, 2, 3} and {2, 3, 4}."
      ],
      "metadata": {
        "id": "-FmojJdi9EXG"
      }
    },
    {
      "cell_type": "code",
      "source": [
        "set_one={1,2,3}\n",
        "set_two={2,3,4}\n",
        "print(set_one.intersection(set_two))"
      ],
      "metadata": {
        "colab": {
          "base_uri": "https://localhost:8080/"
        },
        "id": "hXW33OWI9EmG",
        "outputId": "b4b90ad2-8805-45fd-e3e8-9eeb900d2032"
      },
      "execution_count": 33,
      "outputs": [
        {
          "output_type": "stream",
          "name": "stdout",
          "text": [
            "{2, 3}\n"
          ]
        }
      ]
    },
    {
      "cell_type": "markdown",
      "source": [
        "21. Write a code to create a dictionary with the keys \"name\", \"age\", and \"city\", and print it.\n"
      ],
      "metadata": {
        "id": "rTTfl0OQ9Jaq"
      }
    },
    {
      "cell_type": "code",
      "source": [
        "dict_data={'name':'kamran','age':22,'city':'lahore'}\n",
        "print(dict_data)"
      ],
      "metadata": {
        "colab": {
          "base_uri": "https://localhost:8080/"
        },
        "id": "wdKfBKTi9Jnm",
        "outputId": "5137eeb8-6fb3-456d-a667-37fbbfa5b0dc"
      },
      "execution_count": 34,
      "outputs": [
        {
          "output_type": "stream",
          "name": "stdout",
          "text": [
            "{'name': 'kamran', 'age': 22, 'city': 'lahore'}\n"
          ]
        }
      ]
    },
    {
      "cell_type": "markdown",
      "source": [
        "22. Write a code to add a new key-value pair \"country\": \"USA\" to the dictionary {'name': 'John', 'age': 25}."
      ],
      "metadata": {
        "id": "bH-Y5s_19XPl"
      }
    },
    {
      "cell_type": "code",
      "source": [
        "dict_data={'name':'John','age':25}\n",
        "print(dict_data)\n",
        "dict_data['country']='USA'\n",
        "print(dict_data)"
      ],
      "metadata": {
        "colab": {
          "base_uri": "https://localhost:8080/"
        },
        "id": "HD8PIsxP9Xdd",
        "outputId": "243fe172-0627-49ae-dfe3-ba88e4e3ccd8"
      },
      "execution_count": 36,
      "outputs": [
        {
          "output_type": "stream",
          "name": "stdout",
          "text": [
            "{'name': 'John', 'age': 25}\n",
            "{'name': 'John', 'age': 25, 'country': 'USA'}\n"
          ]
        }
      ]
    },
    {
      "cell_type": "markdown",
      "source": [
        "23. Write a code to access the value associated with the key \"name\" in the dictionary {'name': 'Alice', 'age': 30}."
      ],
      "metadata": {
        "id": "KiBUoxDA9oGo"
      }
    },
    {
      "cell_type": "code",
      "source": [
        "dict_data={'name':'Alice','age':30}\n",
        "print(dict_data['name'])"
      ],
      "metadata": {
        "colab": {
          "base_uri": "https://localhost:8080/"
        },
        "id": "dbIa7KNh9oV8",
        "outputId": "24559960-4198-45aa-b505-a7aaffb165d3"
      },
      "execution_count": 37,
      "outputs": [
        {
          "output_type": "stream",
          "name": "stdout",
          "text": [
            "Alice\n"
          ]
        }
      ]
    },
    {
      "cell_type": "markdown",
      "source": [
        "24. Write a code to remove the key \"age\" from the dictionary {'name': 'Bob', 'age': 22, 'city': 'New York'}."
      ],
      "metadata": {
        "id": "vvZa4lf19woL"
      }
    },
    {
      "cell_type": "code",
      "source": [
        "dict_data={'name':'Bob','age':22,'city':'New York'}\n",
        "print(dict_data)\n",
        "dict_data.pop('age')\n",
        "print(dict_data)"
      ],
      "metadata": {
        "colab": {
          "base_uri": "https://localhost:8080/"
        },
        "id": "SsR0zDfS9w0X",
        "outputId": "5be7ce6f-3481-461d-aef1-d3f76c023783"
      },
      "execution_count": 38,
      "outputs": [
        {
          "output_type": "stream",
          "name": "stdout",
          "text": [
            "{'name': 'Bob', 'age': 22, 'city': 'New York'}\n",
            "{'name': 'Bob', 'city': 'New York'}\n"
          ]
        }
      ]
    },
    {
      "cell_type": "markdown",
      "source": [
        "25. Write a code to check if the key \"city\" exists in the dictionary {'name': 'Alice', 'city': 'Paris'}."
      ],
      "metadata": {
        "id": "SSIH8oxh95Rl"
      }
    },
    {
      "cell_type": "code",
      "source": [
        "dict_data={'name':'Alice','city':'Paris'}\n",
        "print('city' in dict_data)"
      ],
      "metadata": {
        "colab": {
          "base_uri": "https://localhost:8080/"
        },
        "id": "YL476Zg295hM",
        "outputId": "85d554ff-f3c6-4540-ced8-53010418649b"
      },
      "execution_count": 39,
      "outputs": [
        {
          "output_type": "stream",
          "name": "stdout",
          "text": [
            "True\n"
          ]
        }
      ]
    },
    {
      "cell_type": "markdown",
      "source": [
        "26. Write a code to create a list, a tuple, and a dictionary, and print them all."
      ],
      "metadata": {
        "id": "5ZhOw5b_-AXQ"
      }
    },
    {
      "cell_type": "code",
      "source": [
        "my_list = [10, 20, 30, 40, 50]\n",
        "my_tuple = ('apple', 'banana', 'cherry')\n",
        "my_dict = {'name': 'Farhan', 'age': 20, 'course': 'BCA'}\n",
        "\n",
        "print(\"List:\", my_list)\n",
        "print(\"Tuple:\", my_tuple)\n",
        "print(\"Dictionary:\", my_dict)\n"
      ],
      "metadata": {
        "id": "zl9A11i2-AlA"
      },
      "execution_count": null,
      "outputs": []
    },
    {
      "cell_type": "markdown",
      "source": [
        "27. Write a code to create a list of 5 random numbers between 1 and 100, sort it in ascending order, and print the\n",
        "result.(replaced)"
      ],
      "metadata": {
        "id": "f19KjJEg-TOg"
      }
    },
    {
      "cell_type": "code",
      "source": [
        "import random\n",
        "\n",
        "numbers = random.sample(range(1, 101), 5)\n",
        "numbers.sort()\n",
        "\n",
        "print(\"Sorted List:\", numbers)\n"
      ],
      "metadata": {
        "colab": {
          "base_uri": "https://localhost:8080/"
        },
        "id": "hjApahCN-TcH",
        "outputId": "b97331fd-1f01-40b5-f043-2498319b2333"
      },
      "execution_count": 40,
      "outputs": [
        {
          "output_type": "stream",
          "name": "stdout",
          "text": [
            "Sorted List: [25, 36, 46, 48, 91]\n"
          ]
        }
      ]
    },
    {
      "cell_type": "markdown",
      "source": [
        "28. Write a code to create a list with strings and print the element at the third index."
      ],
      "metadata": {
        "id": "4g2PYKMT-fLc"
      }
    },
    {
      "cell_type": "code",
      "source": [
        "my_list = [\"apple\", \"banana\", \"cherry\", \"date\", \"elderberry\"]\n",
        "print(my_list[3])\n"
      ],
      "metadata": {
        "colab": {
          "base_uri": "https://localhost:8080/"
        },
        "id": "VSfRntPG-faU",
        "outputId": "072cf18e-e9ef-4d43-dcf3-19f9f3fd7d4a"
      },
      "execution_count": 41,
      "outputs": [
        {
          "output_type": "stream",
          "name": "stdout",
          "text": [
            "date\n"
          ]
        }
      ]
    },
    {
      "cell_type": "markdown",
      "source": [
        "29. Write a code to combine two dictionaries into one and print the result."
      ],
      "metadata": {
        "id": "OQCMiWNb-qc2"
      }
    },
    {
      "cell_type": "code",
      "source": [
        "dict1 = {'a': 1, 'b': 2}\n",
        "dict2 = {'c': 3, 'd': 4}\n",
        "\n",
        "combined_dict = {**dict1, **dict2}\n",
        "print(combined_dict)\n"
      ],
      "metadata": {
        "colab": {
          "base_uri": "https://localhost:8080/"
        },
        "id": "9kcu6kMy-qrP",
        "outputId": "6e71068a-d6fd-4c18-d415-c6283e9f7424"
      },
      "execution_count": 42,
      "outputs": [
        {
          "output_type": "stream",
          "name": "stdout",
          "text": [
            "{'a': 1, 'b': 2, 'c': 3, 'd': 4}\n"
          ]
        }
      ]
    },
    {
      "cell_type": "markdown",
      "source": [
        "30. Write a code to convert a list of strings into a set.\n",
        "\n"
      ],
      "metadata": {
        "id": "xVIezfJR-yno"
      }
    },
    {
      "cell_type": "code",
      "source": [
        "my_list = [\"apple\", \"banana\", \"cherry\", \"apple\"]\n",
        "my_set = set(my_list)\n",
        "print(my_set)\n"
      ],
      "metadata": {
        "colab": {
          "base_uri": "https://localhost:8080/"
        },
        "id": "iIM9jiMQ-y0u",
        "outputId": "01bfe060-4acc-48cd-a9e4-a76f7de29b7b"
      },
      "execution_count": 43,
      "outputs": [
        {
          "output_type": "stream",
          "name": "stdout",
          "text": [
            "{'apple', 'banana', 'cherry'}\n"
          ]
        }
      ]
    }
  ]
}